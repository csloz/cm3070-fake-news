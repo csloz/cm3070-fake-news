{
 "cells": [
  {
   "cell_type": "markdown",
   "metadata": {},
   "source": [
    "# Fake News Detection \n",
    "## CM3070 Prototype\n"
   ]
  },
  {
   "cell_type": "markdown",
   "metadata": {},
   "source": [
    "### Python Environment Setup (setup a venv)\n"
   ]
  },
  {
   "cell_type": "code",
   "execution_count": 1,
   "metadata": {},
   "outputs": [],
   "source": [
    "# pip install virtualenv ipykernel\n",
    "# virtualenv cm3070\n",
    "# source cm3070/bin/activate\n",
    "# python -m ipykernel install --user --name=cm3070\n",
    "\n",
    "#Installed kernelspec cm3070 in /Users/lawrence/Library/Jupyter/kernels/cm3070\n",
    "#Restart VS Code to see new kernel"
   ]
  },
  {
   "cell_type": "markdown",
   "metadata": {},
   "source": [
    "### Python Library Setup (install required libraries)"
   ]
  },
  {
   "cell_type": "code",
   "execution_count": 2,
   "metadata": {},
   "outputs": [
    {
     "name": "stdout",
     "output_type": "stream",
     "text": [
      "Requirement already satisfied: scikit-learn in ./cm3070/lib/python3.11/site-packages (1.3.2)\n",
      "Requirement already satisfied: numpy<2.0,>=1.17.3 in ./cm3070/lib/python3.11/site-packages (from scikit-learn) (1.26.3)\n",
      "Requirement already satisfied: scipy>=1.5.0 in ./cm3070/lib/python3.11/site-packages (from scikit-learn) (1.11.4)\n",
      "Requirement already satisfied: joblib>=1.1.1 in ./cm3070/lib/python3.11/site-packages (from scikit-learn) (1.3.2)\n",
      "Requirement already satisfied: threadpoolctl>=2.0.0 in ./cm3070/lib/python3.11/site-packages (from scikit-learn) (3.2.0)\n",
      "Note: you may need to restart the kernel to use updated packages.\n",
      "Requirement already satisfied: pandas in ./cm3070/lib/python3.11/site-packages (2.1.4)\n",
      "Requirement already satisfied: numpy<2,>=1.23.2 in ./cm3070/lib/python3.11/site-packages (from pandas) (1.26.3)\n",
      "Requirement already satisfied: python-dateutil>=2.8.2 in ./cm3070/lib/python3.11/site-packages (from pandas) (2.8.2)\n",
      "Requirement already satisfied: pytz>=2020.1 in ./cm3070/lib/python3.11/site-packages (from pandas) (2023.3.post1)\n",
      "Requirement already satisfied: tzdata>=2022.1 in ./cm3070/lib/python3.11/site-packages (from pandas) (2023.4)\n",
      "Requirement already satisfied: six>=1.5 in ./cm3070/lib/python3.11/site-packages (from python-dateutil>=2.8.2->pandas) (1.16.0)\n",
      "Note: you may need to restart the kernel to use updated packages.\n",
      "Requirement already satisfied: transformers in ./cm3070/lib/python3.11/site-packages (4.36.2)\n",
      "Requirement already satisfied: filelock in ./cm3070/lib/python3.11/site-packages (from transformers) (3.13.1)\n",
      "Requirement already satisfied: huggingface-hub<1.0,>=0.19.3 in ./cm3070/lib/python3.11/site-packages (from transformers) (0.20.1)\n",
      "Requirement already satisfied: numpy>=1.17 in ./cm3070/lib/python3.11/site-packages (from transformers) (1.26.3)\n",
      "Requirement already satisfied: packaging>=20.0 in ./cm3070/lib/python3.11/site-packages (from transformers) (23.2)\n",
      "Requirement already satisfied: pyyaml>=5.1 in ./cm3070/lib/python3.11/site-packages (from transformers) (6.0.1)\n",
      "Requirement already satisfied: regex!=2019.12.17 in ./cm3070/lib/python3.11/site-packages (from transformers) (2023.12.25)\n",
      "Requirement already satisfied: requests in ./cm3070/lib/python3.11/site-packages (from transformers) (2.31.0)\n",
      "Requirement already satisfied: tokenizers<0.19,>=0.14 in ./cm3070/lib/python3.11/site-packages (from transformers) (0.15.0)\n",
      "Requirement already satisfied: safetensors>=0.3.1 in ./cm3070/lib/python3.11/site-packages (from transformers) (0.4.1)\n",
      "Requirement already satisfied: tqdm>=4.27 in ./cm3070/lib/python3.11/site-packages (from transformers) (4.66.1)\n",
      "Requirement already satisfied: fsspec>=2023.5.0 in ./cm3070/lib/python3.11/site-packages (from huggingface-hub<1.0,>=0.19.3->transformers) (2023.12.2)\n",
      "Requirement already satisfied: typing-extensions>=3.7.4.3 in ./cm3070/lib/python3.11/site-packages (from huggingface-hub<1.0,>=0.19.3->transformers) (4.9.0)\n",
      "Requirement already satisfied: charset-normalizer<4,>=2 in ./cm3070/lib/python3.11/site-packages (from requests->transformers) (3.3.2)\n",
      "Requirement already satisfied: idna<4,>=2.5 in ./cm3070/lib/python3.11/site-packages (from requests->transformers) (3.6)\n",
      "Requirement already satisfied: urllib3<3,>=1.21.1 in ./cm3070/lib/python3.11/site-packages (from requests->transformers) (1.26.18)\n",
      "Requirement already satisfied: certifi>=2017.4.17 in ./cm3070/lib/python3.11/site-packages (from requests->transformers) (2023.11.17)\n",
      "Note: you may need to restart the kernel to use updated packages.\n",
      "Requirement already satisfied: ekphrasis in ./cm3070/lib/python3.11/site-packages (0.5.4)\n",
      "Requirement already satisfied: termcolor in ./cm3070/lib/python3.11/site-packages (from ekphrasis) (2.4.0)\n",
      "Requirement already satisfied: tqdm in ./cm3070/lib/python3.11/site-packages (from ekphrasis) (4.66.1)\n",
      "Requirement already satisfied: colorama in ./cm3070/lib/python3.11/site-packages (from ekphrasis) (0.4.6)\n",
      "Requirement already satisfied: ujson in ./cm3070/lib/python3.11/site-packages (from ekphrasis) (5.9.0)\n",
      "Requirement already satisfied: matplotlib in ./cm3070/lib/python3.11/site-packages (from ekphrasis) (3.8.2)\n",
      "Requirement already satisfied: nltk in ./cm3070/lib/python3.11/site-packages (from ekphrasis) (3.8.1)\n",
      "Requirement already satisfied: ftfy in ./cm3070/lib/python3.11/site-packages (from ekphrasis) (6.1.3)\n",
      "Requirement already satisfied: numpy in ./cm3070/lib/python3.11/site-packages (from ekphrasis) (1.26.3)\n",
      "Requirement already satisfied: wcwidth<0.3.0,>=0.2.12 in ./cm3070/lib/python3.11/site-packages (from ftfy->ekphrasis) (0.2.12)\n",
      "Requirement already satisfied: contourpy>=1.0.1 in ./cm3070/lib/python3.11/site-packages (from matplotlib->ekphrasis) (1.2.0)\n",
      "Requirement already satisfied: cycler>=0.10 in ./cm3070/lib/python3.11/site-packages (from matplotlib->ekphrasis) (0.12.1)\n",
      "Requirement already satisfied: fonttools>=4.22.0 in ./cm3070/lib/python3.11/site-packages (from matplotlib->ekphrasis) (4.47.0)\n",
      "Requirement already satisfied: kiwisolver>=1.3.1 in ./cm3070/lib/python3.11/site-packages (from matplotlib->ekphrasis) (1.4.5)\n",
      "Requirement already satisfied: packaging>=20.0 in ./cm3070/lib/python3.11/site-packages (from matplotlib->ekphrasis) (23.2)\n",
      "Requirement already satisfied: pillow>=8 in ./cm3070/lib/python3.11/site-packages (from matplotlib->ekphrasis) (10.2.0)\n",
      "Requirement already satisfied: pyparsing>=2.3.1 in ./cm3070/lib/python3.11/site-packages (from matplotlib->ekphrasis) (3.1.1)\n",
      "Requirement already satisfied: python-dateutil>=2.7 in ./cm3070/lib/python3.11/site-packages (from matplotlib->ekphrasis) (2.8.2)\n",
      "Requirement already satisfied: click in ./cm3070/lib/python3.11/site-packages (from nltk->ekphrasis) (8.1.7)\n",
      "Requirement already satisfied: joblib in ./cm3070/lib/python3.11/site-packages (from nltk->ekphrasis) (1.3.2)\n",
      "Requirement already satisfied: regex>=2021.8.3 in ./cm3070/lib/python3.11/site-packages (from nltk->ekphrasis) (2023.12.25)\n",
      "Requirement already satisfied: six>=1.5 in ./cm3070/lib/python3.11/site-packages (from python-dateutil>=2.7->matplotlib->ekphrasis) (1.16.0)\n",
      "Note: you may need to restart the kernel to use updated packages.\n",
      "Requirement already satisfied: keras-tuner in ./cm3070/lib/python3.11/site-packages (1.4.6)\n",
      "Requirement already satisfied: keras in ./cm3070/lib/python3.11/site-packages (from keras-tuner) (2.15.0)\n",
      "Requirement already satisfied: packaging in ./cm3070/lib/python3.11/site-packages (from keras-tuner) (23.2)\n",
      "Requirement already satisfied: requests in ./cm3070/lib/python3.11/site-packages (from keras-tuner) (2.31.0)\n",
      "Requirement already satisfied: kt-legacy in ./cm3070/lib/python3.11/site-packages (from keras-tuner) (1.0.5)\n",
      "Requirement already satisfied: charset-normalizer<4,>=2 in ./cm3070/lib/python3.11/site-packages (from requests->keras-tuner) (3.3.2)\n",
      "Requirement already satisfied: idna<4,>=2.5 in ./cm3070/lib/python3.11/site-packages (from requests->keras-tuner) (3.6)\n",
      "Requirement already satisfied: urllib3<3,>=1.21.1 in ./cm3070/lib/python3.11/site-packages (from requests->keras-tuner) (1.26.18)\n",
      "Requirement already satisfied: certifi>=2017.4.17 in ./cm3070/lib/python3.11/site-packages (from requests->keras-tuner) (2023.11.17)\n",
      "Note: you may need to restart the kernel to use updated packages.\n",
      "Requirement already satisfied: flair in ./cm3070/lib/python3.11/site-packages (0.13.1)\n",
      "Requirement already satisfied: boto3>=1.20.27 in ./cm3070/lib/python3.11/site-packages (from flair) (1.34.14)\n",
      "Requirement already satisfied: bpemb>=0.3.2 in ./cm3070/lib/python3.11/site-packages (from flair) (0.3.4)\n",
      "Requirement already satisfied: conllu>=4.0 in ./cm3070/lib/python3.11/site-packages (from flair) (4.5.3)\n",
      "Requirement already satisfied: deprecated>=1.2.13 in ./cm3070/lib/python3.11/site-packages (from flair) (1.2.14)\n",
      "Requirement already satisfied: ftfy>=6.1.0 in ./cm3070/lib/python3.11/site-packages (from flair) (6.1.3)\n",
      "Requirement already satisfied: gdown>=4.4.0 in ./cm3070/lib/python3.11/site-packages (from flair) (4.7.1)\n",
      "Requirement already satisfied: gensim>=4.2.0 in ./cm3070/lib/python3.11/site-packages (from flair) (4.3.2)\n",
      "Requirement already satisfied: huggingface-hub>=0.10.0 in ./cm3070/lib/python3.11/site-packages (from flair) (0.20.1)\n",
      "Requirement already satisfied: janome>=0.4.2 in ./cm3070/lib/python3.11/site-packages (from flair) (0.5.0)\n",
      "Requirement already satisfied: langdetect>=1.0.9 in ./cm3070/lib/python3.11/site-packages (from flair) (1.0.9)\n",
      "Requirement already satisfied: lxml>=4.8.0 in ./cm3070/lib/python3.11/site-packages (from flair) (5.0.1)\n",
      "Requirement already satisfied: matplotlib>=2.2.3 in ./cm3070/lib/python3.11/site-packages (from flair) (3.8.2)\n",
      "Requirement already satisfied: more-itertools>=8.13.0 in ./cm3070/lib/python3.11/site-packages (from flair) (10.1.0)\n",
      "Requirement already satisfied: mpld3>=0.3 in ./cm3070/lib/python3.11/site-packages (from flair) (0.5.10)\n",
      "Requirement already satisfied: pptree>=3.1 in ./cm3070/lib/python3.11/site-packages (from flair) (3.1)\n",
      "Requirement already satisfied: python-dateutil>=2.8.2 in ./cm3070/lib/python3.11/site-packages (from flair) (2.8.2)\n",
      "Requirement already satisfied: pytorch-revgrad>=0.2.0 in ./cm3070/lib/python3.11/site-packages (from flair) (0.2.0)\n",
      "Requirement already satisfied: regex>=2022.1.18 in ./cm3070/lib/python3.11/site-packages (from flair) (2023.12.25)\n",
      "Requirement already satisfied: scikit-learn>=1.0.2 in ./cm3070/lib/python3.11/site-packages (from flair) (1.3.2)\n",
      "Requirement already satisfied: segtok>=1.5.11 in ./cm3070/lib/python3.11/site-packages (from flair) (1.5.11)\n",
      "Requirement already satisfied: sqlitedict>=2.0.0 in ./cm3070/lib/python3.11/site-packages (from flair) (2.1.0)\n",
      "Requirement already satisfied: tabulate>=0.8.10 in ./cm3070/lib/python3.11/site-packages (from flair) (0.9.0)\n",
      "Requirement already satisfied: torch!=1.8,>=1.5.0 in ./cm3070/lib/python3.11/site-packages (from flair) (2.1.2)\n",
      "Requirement already satisfied: tqdm>=4.63.0 in ./cm3070/lib/python3.11/site-packages (from flair) (4.66.1)\n",
      "Requirement already satisfied: transformer-smaller-training-vocab>=0.2.3 in ./cm3070/lib/python3.11/site-packages (from flair) (0.3.3)\n",
      "Requirement already satisfied: transformers<5.0.0,>=4.18.0 in ./cm3070/lib/python3.11/site-packages (from transformers[sentencepiece]<5.0.0,>=4.18.0->flair) (4.36.2)\n",
      "Requirement already satisfied: urllib3<2.0.0,>=1.0.0 in ./cm3070/lib/python3.11/site-packages (from flair) (1.26.18)\n",
      "Requirement already satisfied: wikipedia-api>=0.5.7 in ./cm3070/lib/python3.11/site-packages (from flair) (0.6.0)\n",
      "Requirement already satisfied: semver<4.0.0,>=3.0.0 in ./cm3070/lib/python3.11/site-packages (from flair) (3.0.2)\n",
      "Requirement already satisfied: botocore<1.35.0,>=1.34.14 in ./cm3070/lib/python3.11/site-packages (from boto3>=1.20.27->flair) (1.34.14)\n",
      "Requirement already satisfied: jmespath<2.0.0,>=0.7.1 in ./cm3070/lib/python3.11/site-packages (from boto3>=1.20.27->flair) (1.0.1)\n",
      "Requirement already satisfied: s3transfer<0.11.0,>=0.10.0 in ./cm3070/lib/python3.11/site-packages (from boto3>=1.20.27->flair) (0.10.0)\n",
      "Requirement already satisfied: numpy in ./cm3070/lib/python3.11/site-packages (from bpemb>=0.3.2->flair) (1.26.3)\n",
      "Requirement already satisfied: requests in ./cm3070/lib/python3.11/site-packages (from bpemb>=0.3.2->flair) (2.31.0)\n",
      "Requirement already satisfied: sentencepiece in ./cm3070/lib/python3.11/site-packages (from bpemb>=0.3.2->flair) (0.1.99)\n",
      "Requirement already satisfied: wrapt<2,>=1.10 in ./cm3070/lib/python3.11/site-packages (from deprecated>=1.2.13->flair) (1.14.1)\n",
      "Requirement already satisfied: wcwidth<0.3.0,>=0.2.12 in ./cm3070/lib/python3.11/site-packages (from ftfy>=6.1.0->flair) (0.2.12)\n",
      "Requirement already satisfied: filelock in ./cm3070/lib/python3.11/site-packages (from gdown>=4.4.0->flair) (3.13.1)\n",
      "Requirement already satisfied: six in ./cm3070/lib/python3.11/site-packages (from gdown>=4.4.0->flair) (1.16.0)\n",
      "Requirement already satisfied: beautifulsoup4 in ./cm3070/lib/python3.11/site-packages (from gdown>=4.4.0->flair) (4.12.2)\n",
      "Requirement already satisfied: scipy>=1.7.0 in ./cm3070/lib/python3.11/site-packages (from gensim>=4.2.0->flair) (1.11.4)\n",
      "Requirement already satisfied: smart-open>=1.8.1 in ./cm3070/lib/python3.11/site-packages (from gensim>=4.2.0->flair) (6.4.0)\n",
      "Requirement already satisfied: fsspec>=2023.5.0 in ./cm3070/lib/python3.11/site-packages (from huggingface-hub>=0.10.0->flair) (2023.12.2)\n",
      "Requirement already satisfied: pyyaml>=5.1 in ./cm3070/lib/python3.11/site-packages (from huggingface-hub>=0.10.0->flair) (6.0.1)\n",
      "Requirement already satisfied: typing-extensions>=3.7.4.3 in ./cm3070/lib/python3.11/site-packages (from huggingface-hub>=0.10.0->flair) (4.9.0)\n",
      "Requirement already satisfied: packaging>=20.9 in ./cm3070/lib/python3.11/site-packages (from huggingface-hub>=0.10.0->flair) (23.2)\n",
      "Requirement already satisfied: contourpy>=1.0.1 in ./cm3070/lib/python3.11/site-packages (from matplotlib>=2.2.3->flair) (1.2.0)\n",
      "Requirement already satisfied: cycler>=0.10 in ./cm3070/lib/python3.11/site-packages (from matplotlib>=2.2.3->flair) (0.12.1)\n",
      "Requirement already satisfied: fonttools>=4.22.0 in ./cm3070/lib/python3.11/site-packages (from matplotlib>=2.2.3->flair) (4.47.0)\n",
      "Requirement already satisfied: kiwisolver>=1.3.1 in ./cm3070/lib/python3.11/site-packages (from matplotlib>=2.2.3->flair) (1.4.5)\n",
      "Requirement already satisfied: pillow>=8 in ./cm3070/lib/python3.11/site-packages (from matplotlib>=2.2.3->flair) (10.2.0)\n",
      "Requirement already satisfied: pyparsing>=2.3.1 in ./cm3070/lib/python3.11/site-packages (from matplotlib>=2.2.3->flair) (3.1.1)\n",
      "Requirement already satisfied: jinja2 in ./cm3070/lib/python3.11/site-packages (from mpld3>=0.3->flair) (3.1.2)\n",
      "Requirement already satisfied: joblib>=1.1.1 in ./cm3070/lib/python3.11/site-packages (from scikit-learn>=1.0.2->flair) (1.3.2)\n",
      "Requirement already satisfied: threadpoolctl>=2.0.0 in ./cm3070/lib/python3.11/site-packages (from scikit-learn>=1.0.2->flair) (3.2.0)\n",
      "Requirement already satisfied: sympy in ./cm3070/lib/python3.11/site-packages (from torch!=1.8,>=1.5.0->flair) (1.12)\n",
      "Requirement already satisfied: networkx in ./cm3070/lib/python3.11/site-packages (from torch!=1.8,>=1.5.0->flair) (3.2.1)\n",
      "Requirement already satisfied: tokenizers<0.19,>=0.14 in ./cm3070/lib/python3.11/site-packages (from transformers<5.0.0,>=4.18.0->transformers[sentencepiece]<5.0.0,>=4.18.0->flair) (0.15.0)\n",
      "Requirement already satisfied: safetensors>=0.3.1 in ./cm3070/lib/python3.11/site-packages (from transformers<5.0.0,>=4.18.0->transformers[sentencepiece]<5.0.0,>=4.18.0->flair) (0.4.1)\n",
      "Requirement already satisfied: protobuf in ./cm3070/lib/python3.11/site-packages (from transformers[sentencepiece]<5.0.0,>=4.18.0->flair) (4.23.4)\n",
      "Requirement already satisfied: accelerate>=0.21.0 in ./cm3070/lib/python3.11/site-packages (from transformers[torch]<5.0,>=4.1->transformer-smaller-training-vocab>=0.2.3->flair) (0.25.0)\n",
      "Requirement already satisfied: soupsieve>1.2 in ./cm3070/lib/python3.11/site-packages (from beautifulsoup4->gdown>=4.4.0->flair) (2.5)\n",
      "Requirement already satisfied: MarkupSafe>=2.0 in ./cm3070/lib/python3.11/site-packages (from jinja2->mpld3>=0.3->flair) (2.1.3)\n",
      "Requirement already satisfied: charset-normalizer<4,>=2 in ./cm3070/lib/python3.11/site-packages (from requests->bpemb>=0.3.2->flair) (3.3.2)\n",
      "Requirement already satisfied: idna<4,>=2.5 in ./cm3070/lib/python3.11/site-packages (from requests->bpemb>=0.3.2->flair) (3.6)\n",
      "Requirement already satisfied: certifi>=2017.4.17 in ./cm3070/lib/python3.11/site-packages (from requests->bpemb>=0.3.2->flair) (2023.11.17)\n",
      "Requirement already satisfied: PySocks!=1.5.7,>=1.5.6 in ./cm3070/lib/python3.11/site-packages (from requests[socks]->gdown>=4.4.0->flair) (1.7.1)\n",
      "Requirement already satisfied: mpmath>=0.19 in ./cm3070/lib/python3.11/site-packages (from sympy->torch!=1.8,>=1.5.0->flair) (1.3.0)\n",
      "Requirement already satisfied: psutil in ./cm3070/lib/python3.11/site-packages (from accelerate>=0.21.0->transformers[torch]<5.0,>=4.1->transformer-smaller-training-vocab>=0.2.3->flair) (5.9.7)\n",
      "Note: you may need to restart the kernel to use updated packages.\n",
      "Requirement already satisfied: nltk in ./cm3070/lib/python3.11/site-packages (3.8.1)\n",
      "Requirement already satisfied: click in ./cm3070/lib/python3.11/site-packages (from nltk) (8.1.7)\n",
      "Requirement already satisfied: joblib in ./cm3070/lib/python3.11/site-packages (from nltk) (1.3.2)\n",
      "Requirement already satisfied: regex>=2021.8.3 in ./cm3070/lib/python3.11/site-packages (from nltk) (2023.12.25)\n",
      "Requirement already satisfied: tqdm in ./cm3070/lib/python3.11/site-packages (from nltk) (4.66.1)\n",
      "Note: you may need to restart the kernel to use updated packages.\n",
      "Requirement already satisfied: tensorflow in ./cm3070/lib/python3.11/site-packages (2.15.0)\n",
      "Requirement already satisfied: tensorflow-macos==2.15.0 in ./cm3070/lib/python3.11/site-packages (from tensorflow) (2.15.0)\n",
      "Requirement already satisfied: absl-py>=1.0.0 in ./cm3070/lib/python3.11/site-packages (from tensorflow-macos==2.15.0->tensorflow) (2.0.0)\n",
      "Requirement already satisfied: astunparse>=1.6.0 in ./cm3070/lib/python3.11/site-packages (from tensorflow-macos==2.15.0->tensorflow) (1.6.3)\n",
      "Requirement already satisfied: flatbuffers>=23.5.26 in ./cm3070/lib/python3.11/site-packages (from tensorflow-macos==2.15.0->tensorflow) (23.5.26)\n",
      "Requirement already satisfied: gast!=0.5.0,!=0.5.1,!=0.5.2,>=0.2.1 in ./cm3070/lib/python3.11/site-packages (from tensorflow-macos==2.15.0->tensorflow) (0.5.4)\n",
      "Requirement already satisfied: google-pasta>=0.1.1 in ./cm3070/lib/python3.11/site-packages (from tensorflow-macos==2.15.0->tensorflow) (0.2.0)\n",
      "Requirement already satisfied: h5py>=2.9.0 in ./cm3070/lib/python3.11/site-packages (from tensorflow-macos==2.15.0->tensorflow) (3.10.0)\n",
      "Requirement already satisfied: libclang>=13.0.0 in ./cm3070/lib/python3.11/site-packages (from tensorflow-macos==2.15.0->tensorflow) (16.0.6)\n",
      "Requirement already satisfied: ml-dtypes~=0.2.0 in ./cm3070/lib/python3.11/site-packages (from tensorflow-macos==2.15.0->tensorflow) (0.2.0)\n",
      "Requirement already satisfied: numpy<2.0.0,>=1.23.5 in ./cm3070/lib/python3.11/site-packages (from tensorflow-macos==2.15.0->tensorflow) (1.26.3)\n",
      "Requirement already satisfied: opt-einsum>=2.3.2 in ./cm3070/lib/python3.11/site-packages (from tensorflow-macos==2.15.0->tensorflow) (3.3.0)\n",
      "Requirement already satisfied: packaging in ./cm3070/lib/python3.11/site-packages (from tensorflow-macos==2.15.0->tensorflow) (23.2)\n",
      "Requirement already satisfied: protobuf!=4.21.0,!=4.21.1,!=4.21.2,!=4.21.3,!=4.21.4,!=4.21.5,<5.0.0dev,>=3.20.3 in ./cm3070/lib/python3.11/site-packages (from tensorflow-macos==2.15.0->tensorflow) (4.23.4)\n",
      "Requirement already satisfied: setuptools in ./cm3070/lib/python3.11/site-packages (from tensorflow-macos==2.15.0->tensorflow) (69.0.3)\n",
      "Requirement already satisfied: six>=1.12.0 in ./cm3070/lib/python3.11/site-packages (from tensorflow-macos==2.15.0->tensorflow) (1.16.0)\n",
      "Requirement already satisfied: termcolor>=1.1.0 in ./cm3070/lib/python3.11/site-packages (from tensorflow-macos==2.15.0->tensorflow) (2.4.0)\n",
      "Requirement already satisfied: typing-extensions>=3.6.6 in ./cm3070/lib/python3.11/site-packages (from tensorflow-macos==2.15.0->tensorflow) (4.9.0)\n",
      "Requirement already satisfied: wrapt<1.15,>=1.11.0 in ./cm3070/lib/python3.11/site-packages (from tensorflow-macos==2.15.0->tensorflow) (1.14.1)\n",
      "Requirement already satisfied: tensorflow-io-gcs-filesystem>=0.23.1 in ./cm3070/lib/python3.11/site-packages (from tensorflow-macos==2.15.0->tensorflow) (0.34.0)\n",
      "Requirement already satisfied: grpcio<2.0,>=1.24.3 in ./cm3070/lib/python3.11/site-packages (from tensorflow-macos==2.15.0->tensorflow) (1.60.0)\n",
      "Requirement already satisfied: tensorboard<2.16,>=2.15 in ./cm3070/lib/python3.11/site-packages (from tensorflow-macos==2.15.0->tensorflow) (2.15.1)\n",
      "Requirement already satisfied: tensorflow-estimator<2.16,>=2.15.0 in ./cm3070/lib/python3.11/site-packages (from tensorflow-macos==2.15.0->tensorflow) (2.15.0)\n",
      "Requirement already satisfied: keras<2.16,>=2.15.0 in ./cm3070/lib/python3.11/site-packages (from tensorflow-macos==2.15.0->tensorflow) (2.15.0)\n",
      "Requirement already satisfied: wheel<1.0,>=0.23.0 in ./cm3070/lib/python3.11/site-packages (from astunparse>=1.6.0->tensorflow-macos==2.15.0->tensorflow) (0.42.0)\n",
      "Requirement already satisfied: google-auth<3,>=1.6.3 in ./cm3070/lib/python3.11/site-packages (from tensorboard<2.16,>=2.15->tensorflow-macos==2.15.0->tensorflow) (2.26.0)\n",
      "Requirement already satisfied: google-auth-oauthlib<2,>=0.5 in ./cm3070/lib/python3.11/site-packages (from tensorboard<2.16,>=2.15->tensorflow-macos==2.15.0->tensorflow) (1.2.0)\n",
      "Requirement already satisfied: markdown>=2.6.8 in ./cm3070/lib/python3.11/site-packages (from tensorboard<2.16,>=2.15->tensorflow-macos==2.15.0->tensorflow) (3.5.1)\n",
      "Requirement already satisfied: requests<3,>=2.21.0 in ./cm3070/lib/python3.11/site-packages (from tensorboard<2.16,>=2.15->tensorflow-macos==2.15.0->tensorflow) (2.31.0)\n",
      "Requirement already satisfied: tensorboard-data-server<0.8.0,>=0.7.0 in ./cm3070/lib/python3.11/site-packages (from tensorboard<2.16,>=2.15->tensorflow-macos==2.15.0->tensorflow) (0.7.2)\n",
      "Requirement already satisfied: werkzeug>=1.0.1 in ./cm3070/lib/python3.11/site-packages (from tensorboard<2.16,>=2.15->tensorflow-macos==2.15.0->tensorflow) (3.0.1)\n",
      "Requirement already satisfied: cachetools<6.0,>=2.0.0 in ./cm3070/lib/python3.11/site-packages (from google-auth<3,>=1.6.3->tensorboard<2.16,>=2.15->tensorflow-macos==2.15.0->tensorflow) (5.3.2)\n",
      "Requirement already satisfied: pyasn1-modules>=0.2.1 in ./cm3070/lib/python3.11/site-packages (from google-auth<3,>=1.6.3->tensorboard<2.16,>=2.15->tensorflow-macos==2.15.0->tensorflow) (0.3.0)\n",
      "Requirement already satisfied: rsa<5,>=3.1.4 in ./cm3070/lib/python3.11/site-packages (from google-auth<3,>=1.6.3->tensorboard<2.16,>=2.15->tensorflow-macos==2.15.0->tensorflow) (4.9)\n",
      "Requirement already satisfied: requests-oauthlib>=0.7.0 in ./cm3070/lib/python3.11/site-packages (from google-auth-oauthlib<2,>=0.5->tensorboard<2.16,>=2.15->tensorflow-macos==2.15.0->tensorflow) (1.3.1)\n",
      "Requirement already satisfied: charset-normalizer<4,>=2 in ./cm3070/lib/python3.11/site-packages (from requests<3,>=2.21.0->tensorboard<2.16,>=2.15->tensorflow-macos==2.15.0->tensorflow) (3.3.2)\n",
      "Requirement already satisfied: idna<4,>=2.5 in ./cm3070/lib/python3.11/site-packages (from requests<3,>=2.21.0->tensorboard<2.16,>=2.15->tensorflow-macos==2.15.0->tensorflow) (3.6)\n",
      "Requirement already satisfied: urllib3<3,>=1.21.1 in ./cm3070/lib/python3.11/site-packages (from requests<3,>=2.21.0->tensorboard<2.16,>=2.15->tensorflow-macos==2.15.0->tensorflow) (1.26.18)\n",
      "Requirement already satisfied: certifi>=2017.4.17 in ./cm3070/lib/python3.11/site-packages (from requests<3,>=2.21.0->tensorboard<2.16,>=2.15->tensorflow-macos==2.15.0->tensorflow) (2023.11.17)\n",
      "Requirement already satisfied: MarkupSafe>=2.1.1 in ./cm3070/lib/python3.11/site-packages (from werkzeug>=1.0.1->tensorboard<2.16,>=2.15->tensorflow-macos==2.15.0->tensorflow) (2.1.3)\n",
      "Requirement already satisfied: pyasn1<0.6.0,>=0.4.6 in ./cm3070/lib/python3.11/site-packages (from pyasn1-modules>=0.2.1->google-auth<3,>=1.6.3->tensorboard<2.16,>=2.15->tensorflow-macos==2.15.0->tensorflow) (0.5.1)\n",
      "Requirement already satisfied: oauthlib>=3.0.0 in ./cm3070/lib/python3.11/site-packages (from requests-oauthlib>=0.7.0->google-auth-oauthlib<2,>=0.5->tensorboard<2.16,>=2.15->tensorflow-macos==2.15.0->tensorflow) (3.2.2)\n",
      "Note: you may need to restart the kernel to use updated packages.\n",
      "Requirement already satisfied: iprogress in ./cm3070/lib/python3.11/site-packages (0.4)\n",
      "Requirement already satisfied: six in ./cm3070/lib/python3.11/site-packages (from iprogress) (1.16.0)\n",
      "Note: you may need to restart the kernel to use updated packages.\n",
      "Requirement already satisfied: ipywidgets in ./cm3070/lib/python3.11/site-packages (8.1.1)\n",
      "Requirement already satisfied: comm>=0.1.3 in ./cm3070/lib/python3.11/site-packages (from ipywidgets) (0.2.1)\n",
      "Requirement already satisfied: ipython>=6.1.0 in ./cm3070/lib/python3.11/site-packages (from ipywidgets) (8.19.0)\n",
      "Requirement already satisfied: traitlets>=4.3.1 in ./cm3070/lib/python3.11/site-packages (from ipywidgets) (5.14.1)\n",
      "Requirement already satisfied: widgetsnbextension~=4.0.9 in ./cm3070/lib/python3.11/site-packages (from ipywidgets) (4.0.9)\n",
      "Requirement already satisfied: jupyterlab-widgets~=3.0.9 in ./cm3070/lib/python3.11/site-packages (from ipywidgets) (3.0.9)\n",
      "Requirement already satisfied: decorator in ./cm3070/lib/python3.11/site-packages (from ipython>=6.1.0->ipywidgets) (5.1.1)\n",
      "Requirement already satisfied: jedi>=0.16 in ./cm3070/lib/python3.11/site-packages (from ipython>=6.1.0->ipywidgets) (0.19.1)\n",
      "Requirement already satisfied: matplotlib-inline in ./cm3070/lib/python3.11/site-packages (from ipython>=6.1.0->ipywidgets) (0.1.6)\n",
      "Requirement already satisfied: prompt-toolkit<3.1.0,>=3.0.41 in ./cm3070/lib/python3.11/site-packages (from ipython>=6.1.0->ipywidgets) (3.0.43)\n",
      "Requirement already satisfied: pygments>=2.4.0 in ./cm3070/lib/python3.11/site-packages (from ipython>=6.1.0->ipywidgets) (2.17.2)\n",
      "Requirement already satisfied: stack-data in ./cm3070/lib/python3.11/site-packages (from ipython>=6.1.0->ipywidgets) (0.6.3)\n",
      "Requirement already satisfied: pexpect>4.3 in ./cm3070/lib/python3.11/site-packages (from ipython>=6.1.0->ipywidgets) (4.9.0)\n",
      "Requirement already satisfied: parso<0.9.0,>=0.8.3 in ./cm3070/lib/python3.11/site-packages (from jedi>=0.16->ipython>=6.1.0->ipywidgets) (0.8.3)\n",
      "Requirement already satisfied: ptyprocess>=0.5 in ./cm3070/lib/python3.11/site-packages (from pexpect>4.3->ipython>=6.1.0->ipywidgets) (0.7.0)\n",
      "Requirement already satisfied: wcwidth in ./cm3070/lib/python3.11/site-packages (from prompt-toolkit<3.1.0,>=3.0.41->ipython>=6.1.0->ipywidgets) (0.2.12)\n",
      "Requirement already satisfied: executing>=1.2.0 in ./cm3070/lib/python3.11/site-packages (from stack-data->ipython>=6.1.0->ipywidgets) (2.0.1)\n",
      "Requirement already satisfied: asttokens>=2.1.0 in ./cm3070/lib/python3.11/site-packages (from stack-data->ipython>=6.1.0->ipywidgets) (2.4.1)\n",
      "Requirement already satisfied: pure-eval in ./cm3070/lib/python3.11/site-packages (from stack-data->ipython>=6.1.0->ipywidgets) (0.2.2)\n",
      "Requirement already satisfied: six>=1.12.0 in ./cm3070/lib/python3.11/site-packages (from asttokens>=2.1.0->stack-data->ipython>=6.1.0->ipywidgets) (1.16.0)\n",
      "Note: you may need to restart the kernel to use updated packages.\n",
      "Requirement already satisfied: seaborn in ./cm3070/lib/python3.11/site-packages (0.13.1)\n",
      "Requirement already satisfied: numpy!=1.24.0,>=1.20 in ./cm3070/lib/python3.11/site-packages (from seaborn) (1.26.3)\n",
      "Requirement already satisfied: pandas>=1.2 in ./cm3070/lib/python3.11/site-packages (from seaborn) (2.1.4)\n",
      "Requirement already satisfied: matplotlib!=3.6.1,>=3.4 in ./cm3070/lib/python3.11/site-packages (from seaborn) (3.8.2)\n",
      "Requirement already satisfied: contourpy>=1.0.1 in ./cm3070/lib/python3.11/site-packages (from matplotlib!=3.6.1,>=3.4->seaborn) (1.2.0)\n",
      "Requirement already satisfied: cycler>=0.10 in ./cm3070/lib/python3.11/site-packages (from matplotlib!=3.6.1,>=3.4->seaborn) (0.12.1)\n",
      "Requirement already satisfied: fonttools>=4.22.0 in ./cm3070/lib/python3.11/site-packages (from matplotlib!=3.6.1,>=3.4->seaborn) (4.47.0)\n",
      "Requirement already satisfied: kiwisolver>=1.3.1 in ./cm3070/lib/python3.11/site-packages (from matplotlib!=3.6.1,>=3.4->seaborn) (1.4.5)\n",
      "Requirement already satisfied: packaging>=20.0 in ./cm3070/lib/python3.11/site-packages (from matplotlib!=3.6.1,>=3.4->seaborn) (23.2)\n",
      "Requirement already satisfied: pillow>=8 in ./cm3070/lib/python3.11/site-packages (from matplotlib!=3.6.1,>=3.4->seaborn) (10.2.0)\n",
      "Requirement already satisfied: pyparsing>=2.3.1 in ./cm3070/lib/python3.11/site-packages (from matplotlib!=3.6.1,>=3.4->seaborn) (3.1.1)\n",
      "Requirement already satisfied: python-dateutil>=2.7 in ./cm3070/lib/python3.11/site-packages (from matplotlib!=3.6.1,>=3.4->seaborn) (2.8.2)\n",
      "Requirement already satisfied: pytz>=2020.1 in ./cm3070/lib/python3.11/site-packages (from pandas>=1.2->seaborn) (2023.3.post1)\n",
      "Requirement already satisfied: tzdata>=2022.1 in ./cm3070/lib/python3.11/site-packages (from pandas>=1.2->seaborn) (2023.4)\n",
      "Requirement already satisfied: six>=1.5 in ./cm3070/lib/python3.11/site-packages (from python-dateutil>=2.7->matplotlib!=3.6.1,>=3.4->seaborn) (1.16.0)\n",
      "Note: you may need to restart the kernel to use updated packages.\n"
     ]
    }
   ],
   "source": [
    "#ML, NLK and other classification libraries\n",
    "%pip install scikit-learn\n",
    "%pip install pandas\n",
    "%pip install transformers\n",
    "%pip install ekphrasis\n",
    "%pip install keras-tuner\n",
    "%pip install flair\n",
    "%pip install nltk\n",
    "%pip install tensorflow\n",
    "\n",
    "#For Jupyter Progress bar bits\n",
    "%pip install iprogress\n",
    "%pip install ipywidgets\n",
    "\n",
    "#output libs\n",
    "%pip install seaborn"
   ]
  },
  {
   "cell_type": "markdown",
   "metadata": {},
   "source": [
    "### Import Libraries"
   ]
  },
  {
   "cell_type": "code",
   "execution_count": 3,
   "metadata": {},
   "outputs": [
    {
     "name": "stderr",
     "output_type": "stream",
     "text": [
      "[nltk_data] Downloading package wordnet to\n",
      "[nltk_data]     /Users/lawrence/nltk_data...\n",
      "[nltk_data]   Package wordnet is already up-to-date!\n",
      "[nltk_data] Downloading package stopwords to\n",
      "[nltk_data]     /Users/lawrence/nltk_data...\n",
      "[nltk_data]   Package stopwords is already up-to-date!\n"
     ]
    }
   ],
   "source": [
    "#Import main libraries\n",
    "import numpy as np\n",
    "import pandas as pd\n",
    "import tensorflow as tf\n",
    "import keras as keras\n",
    "import flair\n",
    "import urllib\n",
    "import statistics\n",
    "import math\n",
    "import pprint\n",
    "import sklearn\n",
    "\n",
    "#Import the NLP cleaning pre-processing tools\n",
    "import nltk\n",
    "import re\n",
    "nltk.download('wordnet') #currently used\n",
    "nltk.download('stopwords') #currently used\n",
    "#nltk.download('punkt')\n",
    "\n",
    "\n",
    "from nltk.corpus import stopwords\n",
    "from nltk.stem import WordNetLemmatizer\n",
    "from flair.models import TextClassifier\n",
    "\n",
    "\n",
    "#Import Notebook bars\n",
    "from tqdm.notebook import tqdm\n",
    "\n",
    "#Get our Evaluation metrics\n",
    "from sklearn.metrics import f1_score, accuracy_score, classification_report, confusion_matrix, ConfusionMatrixDisplay \n",
    "from sklearn.model_selection import train_test_split \n",
    "from sklearn.feature_extraction.text import TfidfVectorizer\n",
    "from sklearn.tree import DecisionTreeClassifier\n",
    "\n",
    "#Output\n",
    "import seaborn as sns\n",
    "import matplotlib.pyplot as plt\n",
    "\n"
   ]
  },
  {
   "cell_type": "markdown",
   "metadata": {},
   "source": [
    "### General Setup"
   ]
  },
  {
   "cell_type": "code",
   "execution_count": null,
   "metadata": {},
   "outputs": [],
   "source": [
    "#Add pretty status progress bar status to notebook\n",
    "tqdm.pandas()\n"
   ]
  },
  {
   "cell_type": "markdown",
   "metadata": {},
   "source": [
    "## Pipeline\n",
    "\n",
    "### 1.1 - Import and Normalize Benchmark Data\n",
    "* Import to named df and concatencate data as needed.\n",
    "* Add is_true column.\n",
    "* Flatten truthiness to true/false class.\n",
    "* Set appropriate description column from dataset, and move column to before is_true\n",
    "\n",
    "\n"
   ]
  },
  {
   "cell_type": "code",
   "execution_count": 5,
   "metadata": {},
   "outputs": [],
   "source": [
    "def import_isot():\n",
    "    #Import both csv's\n",
    "    isot_true = pd.read_csv('./datasets/ISOT/True.csv')\n",
    "    isot_fake = pd.read_csv('./datasets/ISOT/Fake.csv')\n",
    "    #Add truthiness column\n",
    "    isot_true['is_fake']=False\n",
    "    isot_fake['is_fake']=True\n",
    "    #Concat both CSV's\n",
    "    df = pd.concat([isot_true, isot_fake])\n",
    "\n",
    "    #rename 2 -> description\n",
    "    df.rename(columns={ \"text\": \"description\" }, inplace = True)\n",
    "    #move to end -1\n",
    "    df.insert(len(df.columns)-2, 'description', df.pop('description')) #-2 as starts from 0\n",
    "    #need to flatten out half truth etc -> true / false\n",
    "    \n",
    "    return df\n",
    "\n",
    "def import_liar():\n",
    "    df = pd.read_csv('./datasets/LIAR/test.tsv',  sep='\\t',  header=None)\n",
    "    #add our truthiness column, and capitalize it to conform to True False / Other\n",
    "    df['is_fake'] = df.iloc[:, 1].str.capitalize()\n",
    "    \n",
    "    #rename 2 -> description\n",
    "    df.rename(columns={ df.columns[2]: \"description\" }, inplace = True)\n",
    "    #move to end -1\n",
    "    df.insert(len(df.columns)-2, 'description', df.pop('description')) #-2 as starts from 0\n",
    "    #need to flatten out half truth etc -> true / false\n",
    "    #tbd\n",
    "    return df\n",
    "\n",
    "def import_fnn():\n",
    "    #Import\n",
    "    fnn_gc_fake = pd.read_csv('./datasets/FakeNewsNet/dataset/gossipcop_fake.csv')\n",
    "    fnn_gc_true = pd.read_csv('./datasets/FakeNewsNet/dataset/gossipcop_real.csv')\n",
    "    fnn_p_fake = pd.read_csv('./datasets/FakeNewsNet/dataset/politifact_fake.csv')\n",
    "    fnn_p_true = pd.read_csv('./datasets/FakeNewsNet/dataset/politifact_real.csv')\n",
    "    #Add truthiness colum\n",
    "    fnn_gc_true['is_fake']=False\n",
    "    fnn_gc_fake['is_fake']=True\n",
    "    fnn_p_true['is_fake']=False\n",
    "    fnn_p_fake['is_fake']=True\n",
    "    #make into a single set\n",
    "    df = pd.concat ([fnn_gc_fake, fnn_gc_true, fnn_p_fake, fnn_p_true])\n",
    "    df.rename(columns={\"title\": \"description\"},inplace=True)\n",
    "    #Move to end -1\n",
    "    df.insert(len(df.columns)-2, 'description', df.pop('description')) #-2 as starts from 0\n",
    "    return df\n",
    "\n",
    "def import_fe():\n",
    "    df = pd.read_csv('./datasets/FAKEDDIT/all_test_public.tsv', sep='\\t')\n",
    "    df.rename(columns={\"title\": \"description\"},inplace=True)\n",
    "    df['is_fake'] = df['2_way_label']\n",
    "    #Move to end -1\n",
    "    df.insert(len(df.columns)-2, 'description', df.pop('description')) #-2 as starts from 0\n",
    "    #Need to amend 2_way_label -> true / false\n",
    "    df.is_fake = df.is_fake.replace({ 0: True,  1:False})\n",
    "    #dropna\n",
    "    df = df[df['description'].notna()]\n",
    "    return df\n",
    "\n",
    "\n",
    "\n",
    "def df_stats(name, df, showdf=False):\n",
    "    #Display basic stats on data size\n",
    "    print (f'{name} Size{df.shape}')\n",
    "    \n",
    "    print (df.is_fake.value_counts())\n",
    "    if (showdf):\n",
    "        display(df)\n",
    "    #Display Pie chart of Fake/True counts\n",
    "    pie_df =  df['is_fake'].value_counts()\n",
    "    #total = df['is_fake'].value_counts().values.sum()\n",
    "    plot = pie_df.plot.pie(figsize=(5, 5),legend=False,  autopct='%1.1f%%' )\n",
    "    \n",
    "\n",
    "    "
   ]
  },
  {
   "cell_type": "markdown",
   "metadata": {},
   "source": [
    "### 1.1.1 - LIAR Benchmark Dataset"
   ]
  },
  {
   "cell_type": "code",
   "execution_count": 6,
   "metadata": {},
   "outputs": [
    {
     "name": "stdout",
     "output_type": "stream",
     "text": [
      "LIAR Size(1267, 15)\n",
      "is_fake\n",
      "Half-true      265\n",
      "False          249\n",
      "Mostly-true    241\n",
      "Barely-true    212\n",
      "True           208\n",
      "Pants-fire      92\n",
      "Name: count, dtype: int64\n"
     ]
    },
    {
     "data": {
      "image/png": "[encoded data removed]",
      "text/plain": [
       "<Figure size 500x500 with 1 Axes>"
      ]
     },
     "metadata": {},
     "output_type": "display_data"
    }
   ],
   "source": [
    "#Data Import and Mangling\n",
    "\n",
    "#LIAR\n",
    "liar_df = import_liar()\n",
    "df_stats(\"LIAR\", liar_df) #balanced\n",
    "\n"
   ]
  },
  {
   "cell_type": "markdown",
   "metadata": {},
   "source": [
    "### 1.1.2 - ISOT Benchmark Dataset"
   ]
  },
  {
   "cell_type": "code",
   "execution_count": 7,
   "metadata": {},
   "outputs": [
    {
     "name": "stdout",
     "output_type": "stream",
     "text": [
      "ISOT Size(44898, 5)\n",
      "is_fake\n",
      "True     23481\n",
      "False    21417\n",
      "Name: count, dtype: int64\n"
     ]
    },
    {
     "data": {
      "image/png": "[encoded data removed]",
      "text/plain": [
       "<Figure size 500x500 with 1 Axes>"
      ]
     },
     "metadata": {},
     "output_type": "display_data"
    }
   ],
   "source": [
    "\n",
    "#ISOT\n",
    "isot_df = import_isot()\n",
    "df_stats(\"ISOT\", isot_df) #balanced\n"
   ]
  },
  {
   "cell_type": "markdown",
   "metadata": {},
   "source": [
    "### 1.1.3 - FakeNewsNet Benchmark Dataset"
   ]
  },
  {
   "cell_type": "code",
   "execution_count": 8,
   "metadata": {},
   "outputs": [
    {
     "name": "stdout",
     "output_type": "stream",
     "text": [
      "FakeNewsNet Size(23196, 5)\n",
      "is_fake\n",
      "False    17441\n",
      "True      5755\n",
      "Name: count, dtype: int64\n"
     ]
    },
    {
     "data": {
      "image/png": "[encoded data removed]",
      "text/plain": [
       "<Figure size 500x500 with 1 Axes>"
      ]
     },
     "metadata": {},
     "output_type": "display_data"
    }
   ],
   "source": [
    "\n",
    "#FakeNewsNet\n",
    "fnn_df = import_fnn()\n",
    "df_stats(\"FakeNewsNet\", fnn_df) #unbalanced data set\n"
   ]
  },
  {
   "cell_type": "markdown",
   "metadata": {},
   "source": [
    "### 1.1.4 - Fakeddit Benchmark Dataset"
   ]
  },
  {
   "cell_type": "code",
   "execution_count": 9,
   "metadata": {},
   "outputs": [
    {
     "name": "stdout",
     "output_type": "stream",
     "text": [
      "Fakeddit Size(84654, 21)\n",
      "is_fake\n",
      "False    42344\n",
      "True     42310\n",
      "Name: count, dtype: int64\n"
     ]
    },
    {
     "data": {
      "image/png": "[encoded data removed]",
      "text/plain": [
       "<Figure size 500x500 with 1 Axes>"
      ]
     },
     "metadata": {},
     "output_type": "display_data"
    }
   ],
   "source": [
    "\n",
    "#FAKEDDIT\n",
    "fe_df = import_fe()\n",
    "df_stats(\"Fakeddit\", fe_df, False) #balanced\n"
   ]
  },
  {
   "cell_type": "markdown",
   "metadata": {},
   "source": [
    "### 1.2 - Pre-processing"
   ]
  },
  {
   "cell_type": "code",
   "execution_count": 11,
   "metadata": {},
   "outputs": [],
   "source": [
    "# Preprocessing \n",
    "\n",
    "def clean_text(s):\n",
    "    #Lowercase, remove html, strip non-alphanumeric, remove spaces, remove stop words, lemmatize\n",
    "\n",
    "    #if s is NaN then exit\n",
    "    # if not s==s: \n",
    "    #     return s\n",
    "    \n",
    "    #1 - lowercase\n",
    "    s = s.lower() \n",
    "\n",
    "    #2 - remove html using basic regex.  \n",
    "    dehtml = re.compile(r'<[^>]*>')\n",
    "    s= dehtml.sub('', s)\n",
    "\n",
    "    #3 - Strip non alphanumeric away to spaces\n",
    "    s = re.sub (r'[^a-z0-9\\s]',' ',s) \n",
    "    \n",
    "    #4 - Remove excess spaces\n",
    "    s = re.sub (r'\\s+',' ', s).strip() \n",
    "\n",
    "    #5 - remove stop words from the sentence \n",
    "    tokens=  s.split()\n",
    "    stop_words = set(stopwords.words('english'))\n",
    "    filtered = [token for token in tokens if token not in stop_words]\n",
    "    s = \" \".join(filtered)\n",
    "\n",
    "    #6 - lemmatize and remove from sentence\n",
    "    tokens = s.split()\n",
    "    lemmatizer = WordNetLemmatizer()\n",
    "    filtered = [lemmatizer.lemmatize(token) for token in tokens]\n",
    "    s = \" \".join (filtered)\n",
    "\n",
    "    return s\n",
    "\n",
    "\n",
    "\n",
    "\n",
    "\n",
    "#Clean a passed in dataframe desc column -> clean_text\n",
    "def clean_df (df):\n",
    "    #copy the df\n",
    "    clean = df.copy()\n",
    "    #add our processed column with tqdm goodness for progress\n",
    "    clean['clean_description'] = clean['description'].progress_apply (clean_text)\n",
    "    #reset the df\n",
    "    clean.reset_index(inplace=True, drop=True)\n",
    "    #Move clean_description to before is_true for ease of visibility\n",
    "    clean.insert(len(df.columns)-1, 'clean_description', clean.pop('clean_description'))\n",
    "    display(clean.head())\n",
    "    return clean\n",
    "\n"
   ]
  },
  {
   "cell_type": "markdown",
   "metadata": {},
   "source": [
    "#### Test cleaning"
   ]
  },
  {
   "cell_type": "code",
   "execution_count": 12,
   "metadata": {},
   "outputs": [
    {
     "name": "stdout",
     "output_type": "stream",
     "text": [
      "lawrence arabia rather brilliant set lot sentence\n"
     ]
    }
   ],
   "source": [
    "sentence = (clean_text('This IS a Lawrence\\'s of Arabia\\'s <B>rather</B> #Brilliant \\t  <i>set</i> of  lots of SentEnces...'))\n",
    "print (sentence)"
   ]
  },
  {
   "cell_type": "markdown",
   "metadata": {},
   "source": [
    "#### Clean all data sets"
   ]
  },
  {
   "cell_type": "code",
   "execution_count": 13,
   "metadata": {},
   "outputs": [
    {
     "data": {
      "application/vnd.jupyter.widget-view+json": {
       "model_id": "2c2a46589ac94e26970acbbba76c23be",
       "version_major": 2,
       "version_minor": 0
      },
      "text/plain": [
       "  0%|          | 0/1267 [00:00<?, ?it/s]"
      ]
     },
     "metadata": {},
     "output_type": "display_data"
    },
    {
     "data": {
      "text/html": [
       "<div>\n",
       "<style scoped>\n",
       "    .dataframe tbody tr th:only-of-type {\n",
       "        vertical-align: middle;\n",
       "    }\n",
       "\n",
       "    .dataframe tbody tr th {\n",
       "        vertical-align: top;\n",
       "    }\n",
       "\n",
       "    .dataframe thead th {\n",
       "        text-align: right;\n",
       "    }\n",
       "</style>\n",
       "<table border=\"1\" class=\"dataframe\">\n",
       "  <thead>\n",
       "    <tr style=\"text-align: right;\">\n",
       "      <th></th>\n",
       "      <th>0</th>\n",
       "      <th>1</th>\n",
       "      <th>3</th>\n",
       "      <th>4</th>\n",
       "      <th>5</th>\n",
       "      <th>6</th>\n",
       "      <th>7</th>\n",
       "      <th>8</th>\n",
       "      <th>9</th>\n",
       "      <th>10</th>\n",
       "      <th>11</th>\n",
       "      <th>12</th>\n",
       "      <th>13</th>\n",
       "      <th>description</th>\n",
       "      <th>clean_description</th>\n",
       "      <th>is_fake</th>\n",
       "    </tr>\n",
       "  </thead>\n",
       "  <tbody>\n",
       "    <tr>\n",
       "      <th>0</th>\n",
       "      <td>11972.json</td>\n",
       "      <td>true</td>\n",
       "      <td>immigration</td>\n",
       "      <td>rick-perry</td>\n",
       "      <td>Governor</td>\n",
       "      <td>Texas</td>\n",
       "      <td>republican</td>\n",
       "      <td>30</td>\n",
       "      <td>30</td>\n",
       "      <td>42</td>\n",
       "      <td>23</td>\n",
       "      <td>18</td>\n",
       "      <td>Radio interview</td>\n",
       "      <td>Building a wall on the U.S.-Mexico border will...</td>\n",
       "      <td>building wall u mexico border take literally year</td>\n",
       "      <td>True</td>\n",
       "    </tr>\n",
       "    <tr>\n",
       "      <th>1</th>\n",
       "      <td>11685.json</td>\n",
       "      <td>false</td>\n",
       "      <td>jobs</td>\n",
       "      <td>katrina-shankland</td>\n",
       "      <td>State representative</td>\n",
       "      <td>Wisconsin</td>\n",
       "      <td>democrat</td>\n",
       "      <td>2</td>\n",
       "      <td>1</td>\n",
       "      <td>0</td>\n",
       "      <td>0</td>\n",
       "      <td>0</td>\n",
       "      <td>a news conference</td>\n",
       "      <td>Wisconsin is on pace to double the number of l...</td>\n",
       "      <td>wisconsin pace double number layoff year</td>\n",
       "      <td>False</td>\n",
       "    </tr>\n",
       "    <tr>\n",
       "      <th>2</th>\n",
       "      <td>11096.json</td>\n",
       "      <td>false</td>\n",
       "      <td>military,veterans,voting-record</td>\n",
       "      <td>donald-trump</td>\n",
       "      <td>President-Elect</td>\n",
       "      <td>New York</td>\n",
       "      <td>republican</td>\n",
       "      <td>63</td>\n",
       "      <td>114</td>\n",
       "      <td>51</td>\n",
       "      <td>37</td>\n",
       "      <td>61</td>\n",
       "      <td>comments on ABC's This Week.</td>\n",
       "      <td>Says John McCain has done nothing to help the ...</td>\n",
       "      <td>say john mccain done nothing help vet</td>\n",
       "      <td>False</td>\n",
       "    </tr>\n",
       "    <tr>\n",
       "      <th>3</th>\n",
       "      <td>5209.json</td>\n",
       "      <td>half-true</td>\n",
       "      <td>medicare,message-machine-2012,campaign-adverti...</td>\n",
       "      <td>rob-cornilles</td>\n",
       "      <td>consultant</td>\n",
       "      <td>Oregon</td>\n",
       "      <td>republican</td>\n",
       "      <td>1</td>\n",
       "      <td>1</td>\n",
       "      <td>3</td>\n",
       "      <td>1</td>\n",
       "      <td>1</td>\n",
       "      <td>a radio show</td>\n",
       "      <td>Suzanne Bonamici supports a plan that will cut...</td>\n",
       "      <td>suzanne bonamici support plan cut choice medic...</td>\n",
       "      <td>Half-true</td>\n",
       "    </tr>\n",
       "    <tr>\n",
       "      <th>4</th>\n",
       "      <td>9524.json</td>\n",
       "      <td>pants-fire</td>\n",
       "      <td>campaign-finance,legal-issues,campaign-adverti...</td>\n",
       "      <td>state-democratic-party-wisconsin</td>\n",
       "      <td>NaN</td>\n",
       "      <td>Wisconsin</td>\n",
       "      <td>democrat</td>\n",
       "      <td>5</td>\n",
       "      <td>7</td>\n",
       "      <td>2</td>\n",
       "      <td>2</td>\n",
       "      <td>7</td>\n",
       "      <td>a web video</td>\n",
       "      <td>When asked by a reporter whether hes at the ce...</td>\n",
       "      <td>asked reporter whether he center criminal sche...</td>\n",
       "      <td>Pants-fire</td>\n",
       "    </tr>\n",
       "  </tbody>\n",
       "</table>\n",
       "</div>"
      ],
      "text/plain": [
       "            0           1                                                  3  \\\n",
       "0  11972.json        true                                        immigration   \n",
       "1  11685.json       false                                               jobs   \n",
       "2  11096.json       false                    military,veterans,voting-record   \n",
       "3   5209.json   half-true  medicare,message-machine-2012,campaign-adverti...   \n",
       "4   9524.json  pants-fire  campaign-finance,legal-issues,campaign-adverti...   \n",
       "\n",
       "                                  4                     5          6  \\\n",
       "0                        rick-perry              Governor      Texas   \n",
       "1                 katrina-shankland  State representative  Wisconsin   \n",
       "2                      donald-trump       President-Elect   New York   \n",
       "3                     rob-cornilles            consultant     Oregon   \n",
       "4  state-democratic-party-wisconsin                   NaN  Wisconsin   \n",
       "\n",
       "            7   8    9  10  11  12                            13  \\\n",
       "0  republican  30   30  42  23  18               Radio interview   \n",
       "1    democrat   2    1   0   0   0             a news conference   \n",
       "2  republican  63  114  51  37  61  comments on ABC's This Week.   \n",
       "3  republican   1    1   3   1   1                  a radio show   \n",
       "4    democrat   5    7   2   2   7                   a web video   \n",
       "\n",
       "                                         description  \\\n",
       "0  Building a wall on the U.S.-Mexico border will...   \n",
       "1  Wisconsin is on pace to double the number of l...   \n",
       "2  Says John McCain has done nothing to help the ...   \n",
       "3  Suzanne Bonamici supports a plan that will cut...   \n",
       "4  When asked by a reporter whether hes at the ce...   \n",
       "\n",
       "                                   clean_description     is_fake  \n",
       "0  building wall u mexico border take literally year        True  \n",
       "1           wisconsin pace double number layoff year       False  \n",
       "2              say john mccain done nothing help vet       False  \n",
       "3  suzanne bonamici support plan cut choice medic...   Half-true  \n",
       "4  asked reporter whether he center criminal sche...  Pants-fire  "
      ]
     },
     "metadata": {},
     "output_type": "display_data"
    },
    {
     "data": {
      "application/vnd.jupyter.widget-view+json": {
       "model_id": "744c3ee6eec1471ab5602040023c1d1f",
       "version_major": 2,
       "version_minor": 0
      },
      "text/plain": [
       "  0%|          | 0/44898 [00:00<?, ?it/s]"
      ]
     },
     "metadata": {},
     "output_type": "display_data"
    },
    {
     "data": {
      "text/html": [
       "<div>\n",
       "<style scoped>\n",
       "    .dataframe tbody tr th:only-of-type {\n",
       "        vertical-align: middle;\n",
       "    }\n",
       "\n",
       "    .dataframe tbody tr th {\n",
       "        vertical-align: top;\n",
       "    }\n",
       "\n",
       "    .dataframe thead th {\n",
       "        text-align: right;\n",
       "    }\n",
       "</style>\n",
       "<table border=\"1\" class=\"dataframe\">\n",
       "  <thead>\n",
       "    <tr style=\"text-align: right;\">\n",
       "      <th></th>\n",
       "      <th>title</th>\n",
       "      <th>subject</th>\n",
       "      <th>date</th>\n",
       "      <th>description</th>\n",
       "      <th>clean_description</th>\n",
       "      <th>is_fake</th>\n",
       "    </tr>\n",
       "  </thead>\n",
       "  <tbody>\n",
       "    <tr>\n",
       "      <th>0</th>\n",
       "      <td>As U.S. budget fight looms, Republicans flip t...</td>\n",
       "      <td>politicsNews</td>\n",
       "      <td>December 31, 2017</td>\n",
       "      <td>WASHINGTON (Reuters) - The head of a conservat...</td>\n",
       "      <td>washington reuters head conservative republica...</td>\n",
       "      <td>False</td>\n",
       "    </tr>\n",
       "    <tr>\n",
       "      <th>1</th>\n",
       "      <td>U.S. military to accept transgender recruits o...</td>\n",
       "      <td>politicsNews</td>\n",
       "      <td>December 29, 2017</td>\n",
       "      <td>WASHINGTON (Reuters) - Transgender people will...</td>\n",
       "      <td>washington reuters transgender people allowed ...</td>\n",
       "      <td>False</td>\n",
       "    </tr>\n",
       "    <tr>\n",
       "      <th>2</th>\n",
       "      <td>Senior U.S. Republican senator: 'Let Mr. Muell...</td>\n",
       "      <td>politicsNews</td>\n",
       "      <td>December 31, 2017</td>\n",
       "      <td>WASHINGTON (Reuters) - The special counsel inv...</td>\n",
       "      <td>washington reuters special counsel investigati...</td>\n",
       "      <td>False</td>\n",
       "    </tr>\n",
       "    <tr>\n",
       "      <th>3</th>\n",
       "      <td>FBI Russia probe helped by Australian diplomat...</td>\n",
       "      <td>politicsNews</td>\n",
       "      <td>December 30, 2017</td>\n",
       "      <td>WASHINGTON (Reuters) - Trump campaign adviser ...</td>\n",
       "      <td>washington reuters trump campaign adviser geor...</td>\n",
       "      <td>False</td>\n",
       "    </tr>\n",
       "    <tr>\n",
       "      <th>4</th>\n",
       "      <td>Trump wants Postal Service to charge 'much mor...</td>\n",
       "      <td>politicsNews</td>\n",
       "      <td>December 29, 2017</td>\n",
       "      <td>SEATTLE/WASHINGTON (Reuters) - President Donal...</td>\n",
       "      <td>seattle washington reuters president donald tr...</td>\n",
       "      <td>False</td>\n",
       "    </tr>\n",
       "  </tbody>\n",
       "</table>\n",
       "</div>"
      ],
      "text/plain": [
       "                                               title       subject  \\\n",
       "0  As U.S. budget fight looms, Republicans flip t...  politicsNews   \n",
       "1  U.S. military to accept transgender recruits o...  politicsNews   \n",
       "2  Senior U.S. Republican senator: 'Let Mr. Muell...  politicsNews   \n",
       "3  FBI Russia probe helped by Australian diplomat...  politicsNews   \n",
       "4  Trump wants Postal Service to charge 'much mor...  politicsNews   \n",
       "\n",
       "                 date                                        description  \\\n",
       "0  December 31, 2017   WASHINGTON (Reuters) - The head of a conservat...   \n",
       "1  December 29, 2017   WASHINGTON (Reuters) - Transgender people will...   \n",
       "2  December 31, 2017   WASHINGTON (Reuters) - The special counsel inv...   \n",
       "3  December 30, 2017   WASHINGTON (Reuters) - Trump campaign adviser ...   \n",
       "4  December 29, 2017   SEATTLE/WASHINGTON (Reuters) - President Donal...   \n",
       "\n",
       "                                   clean_description  is_fake  \n",
       "0  washington reuters head conservative republica...    False  \n",
       "1  washington reuters transgender people allowed ...    False  \n",
       "2  washington reuters special counsel investigati...    False  \n",
       "3  washington reuters trump campaign adviser geor...    False  \n",
       "4  seattle washington reuters president donald tr...    False  "
      ]
     },
     "metadata": {},
     "output_type": "display_data"
    },
    {
     "data": {
      "application/vnd.jupyter.widget-view+json": {
       "model_id": "646d65c0885f4e4c859fced9a358e818",
       "version_major": 2,
       "version_minor": 0
      },
      "text/plain": [
       "  0%|          | 0/23196 [00:00<?, ?it/s]"
      ]
     },
     "metadata": {},
     "output_type": "display_data"
    },
    {
     "data": {
      "text/html": [
       "<div>\n",
       "<style scoped>\n",
       "    .dataframe tbody tr th:only-of-type {\n",
       "        vertical-align: middle;\n",
       "    }\n",
       "\n",
       "    .dataframe tbody tr th {\n",
       "        vertical-align: top;\n",
       "    }\n",
       "\n",
       "    .dataframe thead th {\n",
       "        text-align: right;\n",
       "    }\n",
       "</style>\n",
       "<table border=\"1\" class=\"dataframe\">\n",
       "  <thead>\n",
       "    <tr style=\"text-align: right;\">\n",
       "      <th></th>\n",
       "      <th>id</th>\n",
       "      <th>news_url</th>\n",
       "      <th>tweet_ids</th>\n",
       "      <th>description</th>\n",
       "      <th>clean_description</th>\n",
       "      <th>is_fake</th>\n",
       "    </tr>\n",
       "  </thead>\n",
       "  <tbody>\n",
       "    <tr>\n",
       "      <th>0</th>\n",
       "      <td>gossipcop-2493749932</td>\n",
       "      <td>www.dailymail.co.uk/tvshowbiz/article-5874213/...</td>\n",
       "      <td>284329075902926848\\t284332744559968256\\t284335...</td>\n",
       "      <td>Did Miley Cyrus and Liam Hemsworth secretly ge...</td>\n",
       "      <td>miley cyrus liam hemsworth secretly get married</td>\n",
       "      <td>True</td>\n",
       "    </tr>\n",
       "    <tr>\n",
       "      <th>1</th>\n",
       "      <td>gossipcop-4580247171</td>\n",
       "      <td>hollywoodlife.com/2018/05/05/paris-jackson-car...</td>\n",
       "      <td>992895508267130880\\t992897935418503169\\t992899...</td>\n",
       "      <td>Paris Jackson &amp; Cara Delevingne Enjoy Night Ou...</td>\n",
       "      <td>paris jackson cara delevingne enjoy night matc...</td>\n",
       "      <td>True</td>\n",
       "    </tr>\n",
       "    <tr>\n",
       "      <th>2</th>\n",
       "      <td>gossipcop-941805037</td>\n",
       "      <td>variety.com/2017/biz/news/tax-march-donald-tru...</td>\n",
       "      <td>853359353532829696\\t853359576543920128\\t853359...</td>\n",
       "      <td>Celebrities Join Tax March in Protest of Donal...</td>\n",
       "      <td>celebrity join tax march protest donald trump</td>\n",
       "      <td>True</td>\n",
       "    </tr>\n",
       "    <tr>\n",
       "      <th>3</th>\n",
       "      <td>gossipcop-2547891536</td>\n",
       "      <td>www.dailymail.co.uk/femail/article-3499192/Do-...</td>\n",
       "      <td>988821905196158981\\t988824206556172288\\t988825...</td>\n",
       "      <td>Cindy Crawford's daughter Kaia Gerber wears a ...</td>\n",
       "      <td>cindy crawford daughter kaia gerber wear wig d...</td>\n",
       "      <td>True</td>\n",
       "    </tr>\n",
       "    <tr>\n",
       "      <th>4</th>\n",
       "      <td>gossipcop-5476631226</td>\n",
       "      <td>variety.com/2018/film/news/list-2018-oscar-nom...</td>\n",
       "      <td>955792793632432131\\t955795063925301249\\t955798...</td>\n",
       "      <td>Full List of 2018 Oscar Nominations – Variety</td>\n",
       "      <td>full list 2018 oscar nomination variety</td>\n",
       "      <td>True</td>\n",
       "    </tr>\n",
       "  </tbody>\n",
       "</table>\n",
       "</div>"
      ],
      "text/plain": [
       "                     id                                           news_url  \\\n",
       "0  gossipcop-2493749932  www.dailymail.co.uk/tvshowbiz/article-5874213/...   \n",
       "1  gossipcop-4580247171  hollywoodlife.com/2018/05/05/paris-jackson-car...   \n",
       "2   gossipcop-941805037  variety.com/2017/biz/news/tax-march-donald-tru...   \n",
       "3  gossipcop-2547891536  www.dailymail.co.uk/femail/article-3499192/Do-...   \n",
       "4  gossipcop-5476631226  variety.com/2018/film/news/list-2018-oscar-nom...   \n",
       "\n",
       "                                           tweet_ids  \\\n",
       "0  284329075902926848\\t284332744559968256\\t284335...   \n",
       "1  992895508267130880\\t992897935418503169\\t992899...   \n",
       "2  853359353532829696\\t853359576543920128\\t853359...   \n",
       "3  988821905196158981\\t988824206556172288\\t988825...   \n",
       "4  955792793632432131\\t955795063925301249\\t955798...   \n",
       "\n",
       "                                         description  \\\n",
       "0  Did Miley Cyrus and Liam Hemsworth secretly ge...   \n",
       "1  Paris Jackson & Cara Delevingne Enjoy Night Ou...   \n",
       "2  Celebrities Join Tax March in Protest of Donal...   \n",
       "3  Cindy Crawford's daughter Kaia Gerber wears a ...   \n",
       "4      Full List of 2018 Oscar Nominations – Variety   \n",
       "\n",
       "                                   clean_description  is_fake  \n",
       "0    miley cyrus liam hemsworth secretly get married     True  \n",
       "1  paris jackson cara delevingne enjoy night matc...     True  \n",
       "2      celebrity join tax march protest donald trump     True  \n",
       "3  cindy crawford daughter kaia gerber wear wig d...     True  \n",
       "4            full list 2018 oscar nomination variety     True  "
      ]
     },
     "metadata": {},
     "output_type": "display_data"
    },
    {
     "data": {
      "application/vnd.jupyter.widget-view+json": {
       "model_id": "1cb39f0772a8419c8837b7fdda21b2f4",
       "version_major": 2,
       "version_minor": 0
      },
      "text/plain": [
       "  0%|          | 0/84654 [00:00<?, ?it/s]"
      ]
     },
     "metadata": {},
     "output_type": "display_data"
    },
    {
     "data": {
      "text/html": [
       "<div>\n",
       "<style scoped>\n",
       "    .dataframe tbody tr th:only-of-type {\n",
       "        vertical-align: middle;\n",
       "    }\n",
       "\n",
       "    .dataframe tbody tr th {\n",
       "        vertical-align: top;\n",
       "    }\n",
       "\n",
       "    .dataframe thead th {\n",
       "        text-align: right;\n",
       "    }\n",
       "</style>\n",
       "<table border=\"1\" class=\"dataframe\">\n",
       "  <thead>\n",
       "    <tr style=\"text-align: right;\">\n",
       "      <th></th>\n",
       "      <th>Unnamed: 0.2</th>\n",
       "      <th>Unnamed: 0</th>\n",
       "      <th>Unnamed: 0.1</th>\n",
       "      <th>Unnamed: 0.1.1</th>\n",
       "      <th>author</th>\n",
       "      <th>clean_title</th>\n",
       "      <th>created_utc</th>\n",
       "      <th>domain</th>\n",
       "      <th>hasImage</th>\n",
       "      <th>id</th>\n",
       "      <th>...</th>\n",
       "      <th>num_comments</th>\n",
       "      <th>score</th>\n",
       "      <th>subreddit</th>\n",
       "      <th>upvote_ratio</th>\n",
       "      <th>2_way_label</th>\n",
       "      <th>3_way_label</th>\n",
       "      <th>6_way_label</th>\n",
       "      <th>description</th>\n",
       "      <th>clean_description</th>\n",
       "      <th>is_fake</th>\n",
       "    </tr>\n",
       "  </thead>\n",
       "  <tbody>\n",
       "    <tr>\n",
       "      <th>0</th>\n",
       "      <td>0</td>\n",
       "      <td>0</td>\n",
       "      <td>NaN</td>\n",
       "      <td>NaN</td>\n",
       "      <td>buzzly6</td>\n",
       "      <td>virginia first lady criticized for handing cot...</td>\n",
       "      <td>1.551316e+09</td>\n",
       "      <td>philly.com</td>\n",
       "      <td>False</td>\n",
       "      <td>avkxum</td>\n",
       "      <td>...</td>\n",
       "      <td>2.0</td>\n",
       "      <td>16</td>\n",
       "      <td>nottheonion</td>\n",
       "      <td>0.69</td>\n",
       "      <td>1</td>\n",
       "      <td>0</td>\n",
       "      <td>0</td>\n",
       "      <td>Virginia first lady criticized for handing cot...</td>\n",
       "      <td>virginia first lady criticized handing cotton ...</td>\n",
       "      <td>False</td>\n",
       "    </tr>\n",
       "    <tr>\n",
       "      <th>1</th>\n",
       "      <td>1</td>\n",
       "      <td>1</td>\n",
       "      <td>NaN</td>\n",
       "      <td>NaN</td>\n",
       "      <td>NaN</td>\n",
       "      <td>jason falconer reluctant hero stopped mall att...</td>\n",
       "      <td>1.474326e+09</td>\n",
       "      <td>cnn.it</td>\n",
       "      <td>False</td>\n",
       "      <td>53kdz3</td>\n",
       "      <td>...</td>\n",
       "      <td>0.0</td>\n",
       "      <td>7</td>\n",
       "      <td>upliftingnews</td>\n",
       "      <td>0.77</td>\n",
       "      <td>1</td>\n",
       "      <td>0</td>\n",
       "      <td>0</td>\n",
       "      <td>Jason Falconer: Reluctant hero stopped mall at...</td>\n",
       "      <td>jason falconer reluctant hero stopped mall att...</td>\n",
       "      <td>False</td>\n",
       "    </tr>\n",
       "    <tr>\n",
       "      <th>2</th>\n",
       "      <td>3</td>\n",
       "      <td>3</td>\n",
       "      <td>NaN</td>\n",
       "      <td>NaN</td>\n",
       "      <td>NaN</td>\n",
       "      <td>woman bites camels testicles to save herself a...</td>\n",
       "      <td>1.569178e+09</td>\n",
       "      <td>wbrz.com</td>\n",
       "      <td>False</td>\n",
       "      <td>d7upss</td>\n",
       "      <td>...</td>\n",
       "      <td>3.0</td>\n",
       "      <td>7</td>\n",
       "      <td>nottheonion</td>\n",
       "      <td>1.00</td>\n",
       "      <td>1</td>\n",
       "      <td>0</td>\n",
       "      <td>0</td>\n",
       "      <td>Woman bites camel’s testicles to save herself ...</td>\n",
       "      <td>woman bite camel testicle save freak encounter</td>\n",
       "      <td>False</td>\n",
       "    </tr>\n",
       "    <tr>\n",
       "      <th>3</th>\n",
       "      <td>4</td>\n",
       "      <td>4</td>\n",
       "      <td>190207.0</td>\n",
       "      <td>862707.0</td>\n",
       "      <td>trustbytrust</td>\n",
       "      <td>stargazer</td>\n",
       "      <td>1.425139e+09</td>\n",
       "      <td>NaN</td>\n",
       "      <td>True</td>\n",
       "      <td>cozywbv</td>\n",
       "      <td>...</td>\n",
       "      <td>NaN</td>\n",
       "      <td>3</td>\n",
       "      <td>psbattle_artwork</td>\n",
       "      <td>NaN</td>\n",
       "      <td>0</td>\n",
       "      <td>2</td>\n",
       "      <td>4</td>\n",
       "      <td>stargazer</td>\n",
       "      <td>stargazer</td>\n",
       "      <td>True</td>\n",
       "    </tr>\n",
       "    <tr>\n",
       "      <th>4</th>\n",
       "      <td>5</td>\n",
       "      <td>5</td>\n",
       "      <td>NaN</td>\n",
       "      <td>NaN</td>\n",
       "      <td>confession_SS</td>\n",
       "      <td>driving scares me a few little kittens down a ...</td>\n",
       "      <td>1.562530e+09</td>\n",
       "      <td>self.SubredditSimulator</td>\n",
       "      <td>False</td>\n",
       "      <td>cab6hd</td>\n",
       "      <td>...</td>\n",
       "      <td>19.0</td>\n",
       "      <td>2</td>\n",
       "      <td>subredditsimulator</td>\n",
       "      <td>0.76</td>\n",
       "      <td>0</td>\n",
       "      <td>2</td>\n",
       "      <td>3</td>\n",
       "      <td>Driving scares me a few little kittens down a ...</td>\n",
       "      <td>driving scare little kitten couple month sobri...</td>\n",
       "      <td>True</td>\n",
       "    </tr>\n",
       "  </tbody>\n",
       "</table>\n",
       "<p>5 rows × 22 columns</p>\n",
       "</div>"
      ],
      "text/plain": [
       "   Unnamed: 0.2  Unnamed: 0  Unnamed: 0.1  Unnamed: 0.1.1         author  \\\n",
       "0             0           0           NaN             NaN        buzzly6   \n",
       "1             1           1           NaN             NaN            NaN   \n",
       "2             3           3           NaN             NaN            NaN   \n",
       "3             4           4      190207.0        862707.0   trustbytrust   \n",
       "4             5           5           NaN             NaN  confession_SS   \n",
       "\n",
       "                                         clean_title   created_utc  \\\n",
       "0  virginia first lady criticized for handing cot...  1.551316e+09   \n",
       "1  jason falconer reluctant hero stopped mall att...  1.474326e+09   \n",
       "2  woman bites camels testicles to save herself a...  1.569178e+09   \n",
       "3                                          stargazer  1.425139e+09   \n",
       "4  driving scares me a few little kittens down a ...  1.562530e+09   \n",
       "\n",
       "                    domain  hasImage       id  ... num_comments score  \\\n",
       "0               philly.com     False   avkxum  ...          2.0    16   \n",
       "1                   cnn.it     False   53kdz3  ...          0.0     7   \n",
       "2                 wbrz.com     False   d7upss  ...          3.0     7   \n",
       "3                      NaN      True  cozywbv  ...          NaN     3   \n",
       "4  self.SubredditSimulator     False   cab6hd  ...         19.0     2   \n",
       "\n",
       "            subreddit  upvote_ratio 2_way_label  3_way_label  6_way_label  \\\n",
       "0         nottheonion          0.69           1            0            0   \n",
       "1       upliftingnews          0.77           1            0            0   \n",
       "2         nottheonion          1.00           1            0            0   \n",
       "3    psbattle_artwork           NaN           0            2            4   \n",
       "4  subredditsimulator          0.76           0            2            3   \n",
       "\n",
       "                                         description  \\\n",
       "0  Virginia first lady criticized for handing cot...   \n",
       "1  Jason Falconer: Reluctant hero stopped mall at...   \n",
       "2  Woman bites camel’s testicles to save herself ...   \n",
       "3                                         stargazer    \n",
       "4  Driving scares me a few little kittens down a ...   \n",
       "\n",
       "                                   clean_description is_fake  \n",
       "0  virginia first lady criticized handing cotton ...   False  \n",
       "1  jason falconer reluctant hero stopped mall att...   False  \n",
       "2     woman bite camel testicle save freak encounter   False  \n",
       "3                                          stargazer    True  \n",
       "4  driving scare little kitten couple month sobri...    True  \n",
       "\n",
       "[5 rows x 22 columns]"
      ]
     },
     "metadata": {},
     "output_type": "display_data"
    },
    {
     "name": "stdout",
     "output_type": "stream",
     "text": [
      "Processed\n"
     ]
    }
   ],
   "source": [
    "liar_df = clean_df(liar_df)\n",
    "\n",
    "isot_df = clean_df(isot_df)\n",
    "\n",
    "fnn_df = clean_df(fnn_df)\n",
    "\n",
    "fe_df = clean_df(fe_df)\n",
    "\n",
    "print (\"Processed\")"
   ]
  },
  {
   "cell_type": "markdown",
   "metadata": {},
   "source": [
    "#### Create Combined Dataset"
   ]
  },
  {
   "cell_type": "code",
   "execution_count": 14,
   "metadata": {},
   "outputs": [
    {
     "name": "stdout",
     "output_type": "stream",
     "text": [
      "Combined Size(154015, 3)\n",
      "is_fake\n",
      "False          81202\n",
      "True           71546\n",
      "Half-true        265\n",
      "False            249\n",
      "Mostly-true      241\n",
      "Barely-true      212\n",
      "True             208\n",
      "Pants-fire        92\n",
      "Name: count, dtype: int64\n"
     ]
    },
    {
     "data": {
      "image/png": "[encoded data removed]",
      "text/plain": [
       "<Figure size 500x500 with 1 Axes>"
      ]
     },
     "metadata": {},
     "output_type": "display_data"
    }
   ],
   "source": [
    "\n",
    "collated = [liar_df[['description', 'clean_description', 'is_fake']], \n",
    "            isot_df[['description', 'clean_description', 'is_fake']],\n",
    "            fnn_df[['description', 'clean_description', 'is_fake']],\n",
    "            fe_df[['description', 'clean_description', 'is_fake']],\n",
    "            ]\n",
    "combined_df = pd.concat(collated)\n",
    "\n",
    "df_stats (\"Combined\",combined_df)"
   ]
  },
  {
   "cell_type": "markdown",
   "metadata": {},
   "source": [
    "### 1.3 - Feature Extraction\n",
    "\n",
    "#### Testing Flair"
   ]
  },
  {
   "cell_type": "code",
   "execution_count": 15,
   "metadata": {},
   "outputs": [
    {
     "name": "stdout",
     "output_type": "stream",
     "text": [
      "lawrence arabia rather brilliant set lot sentence\n",
      "2024-01-08 11:08:59,282 SequenceTagger predicts: Dictionary with 20 tags: <unk>, O, S-ORG, S-MISC, B-PER, E-PER, S-LOC, B-ORG, E-ORG, I-PER, S-PER, B-MISC, I-MISC, E-MISC, I-ORG, B-LOC, E-LOC, I-LOC, <START>, <STOP>\n",
      "Span[0:2]: \"lawrence arabia\" → PER (0.9447)\n"
     ]
    }
   ],
   "source": [
    "from flair.data import Sentence\n",
    "from flair.models import SequenceTagger\n",
    "\n",
    "sentence = (clean_text('This IS a Lawrence\\'s of Arabia\\'s <B>rather</B> #Brilliant \\t  <i>set</i> of  lots of SentEnces...'))\n",
    "print (sentence)\n",
    "# create a sentence\n",
    "sentence = Sentence(sentence)\n",
    "# load the NER tagger\n",
    "tagger = SequenceTagger.load('ner')\n",
    "\n",
    "# predict the named entities in the sentence\n",
    "tagger.predict(sentence)\n",
    "\n",
    "# print the predicted named entities\n",
    "for entity in sentence.get_spans('ner'):\n",
    "    print(entity)\n",
    "\n",
    "#can see named entity is listed for lawrence (of) arabia -> person "
   ]
  },
  {
   "cell_type": "markdown",
   "metadata": {},
   "source": [
    "#### Prototype Testing "
   ]
  },
  {
   "cell_type": "code",
   "execution_count": 16,
   "metadata": {},
   "outputs": [],
   "source": [
    "#Prototype uses a single test classifier and feature extractor  \n",
    "classifiers=dict()\n",
    "classifiers['dt'] = DecisionTreeClassifier()\n",
    "\n",
    "extractors=dict()\n",
    "extractors['tfidf'] = TfidfVectorizer(stop_words='english', max_df=0.7)"
   ]
  },
  {
   "cell_type": "markdown",
   "metadata": {},
   "source": [
    "### 1.4 - Training"
   ]
  },
  {
   "cell_type": "code",
   "execution_count": 17,
   "metadata": {},
   "outputs": [],
   "source": [
    "\n",
    "def evaluate (y_true, y_predicted):\n",
    "    # Confusion Matrix\n",
    "    cm = confusion_matrix(y_true, y_predicted) \n",
    "    sns.heatmap(cm, annot=True, cmap='rocket_r', fmt= '.5g')\n",
    "    plt.title('Confusion Matrix')\n",
    "    plt.ylabel('Actual Values')\n",
    "    plt.xlabel('Predicted Values')\n",
    "    plt.show()\n",
    "    # F1 Scoring and Accuracy\n",
    "    print('') \n",
    "    display('Accuracy, Precision, Recall and F1-score')\n",
    "    print(classification_report(y_true, y_predicted, digits=5))\n",
    "\n",
    "\n",
    "def train (name, x_train, x_test, y_train, y_test):\n",
    "    #name datasource name\n",
    "    #x_train, x_test use the extractors to train\n",
    "    #y_train, y_test use the classifiers to train\n",
    "\n",
    "    transformed_train=extractors['tfidf'].fit_transform(x_train)\n",
    "    transformed_test=extractors['tfidf'].transform(x_test)\n",
    "\n",
    "    classifiers['dt'].fit (transformed_train, y_train)\n",
    "    y_pred = classifiers['dt'].predict(transformed_test)\n",
    "\n",
    "    print (name)\n",
    "    evaluate (y_test,y_pred)\n",
    "\n",
    "\n",
    "\n",
    "    "
   ]
  },
  {
   "cell_type": "markdown",
   "metadata": {},
   "source": [
    "### 1.5 - Classification (Prediction Scoring)\n",
    "#### Single example shown for video for speed reasons"
   ]
  },
  {
   "cell_type": "code",
   "execution_count": 18,
   "metadata": {},
   "outputs": [
    {
     "data": {
      "application/vnd.jupyter.widget-view+json": {
       "model_id": "11cebf08557c447fa47ddae77987fe37",
       "version_major": 2,
       "version_minor": 0
      },
      "text/plain": [
       "  0%|          | 0/1 [00:00<?, ?it/s]"
      ]
     },
     "metadata": {},
     "output_type": "display_data"
    },
    {
     "name": "stdout",
     "output_type": "stream",
     "text": [
      "ISOT\n"
     ]
    },
    {
     "data": {
      "image/png": "[encoded data removed]",
      "text/plain": [
       "<Figure size 640x480 with 2 Axes>"
      ]
     },
     "metadata": {},
     "output_type": "display_data"
    },
    {
     "name": "stdout",
     "output_type": "stream",
     "text": [
      "\n"
     ]
    },
    {
     "data": {
      "text/plain": [
       "'Accuracy, Precision, Recall and F1-score'"
      ]
     },
     "metadata": {},
     "output_type": "display_data"
    },
    {
     "name": "stdout",
     "output_type": "stream",
     "text": [
      "              precision    recall  f1-score   support\n",
      "\n",
      "       False    0.99578   0.99330   0.99454      6420\n",
      "        True    0.99391   0.99617   0.99504      7050\n",
      "\n",
      "    accuracy                        0.99480     13470\n",
      "   macro avg    0.99485   0.99474   0.99479     13470\n",
      "weighted avg    0.99481   0.99480   0.99480     13470\n",
      "\n"
     ]
    }
   ],
   "source": [
    "\n",
    "#isot_df\n",
    "#liar_df\n",
    "#fnn_df\n",
    "#fe_df\n",
    "#combined_df\n",
    "\n",
    "training = dict()\n",
    "\n",
    "training['ISOT'] = isot_df #too slow to show more than one training sample in video\n",
    "#training['LIAR'] = liar_df\n",
    "#training['FNN'] = fnn_df\n",
    "#training['FEDDIT'] = fe_df\n",
    "#training['COMBINED']= combined_df\n",
    " \n",
    "\n",
    "for name, df in tqdm(training.items()):\n",
    "    labels = df.is_fake\n",
    "    x_train, x_test, y_train, y_test=train_test_split(isot_df['clean_description'], labels, test_size=0.3, random_state=7)\n",
    "\n",
    "    train ( name,x_train, x_test, y_train, y_test)\n",
    "\n",
    "    "
   ]
  },
  {
   "cell_type": "markdown",
   "metadata": {},
   "source": [
    "## Analysis"
   ]
  },
  {
   "cell_type": "code",
   "execution_count": null,
   "metadata": {},
   "outputs": [],
   "source": [
    "# To be added at a later stage"
   ]
  }
 ],
 "metadata": {
  "kernelspec": {
   "display_name": "cm3070",
   "language": "python",
   "name": "cm3070"
  },
  "language_info": {
   "codemirror_mode": {
    "name": "ipython",
    "version": 3
   },
   "file_extension": ".py",
   "mimetype": "text/x-python",
   "name": "python",
   "nbconvert_exporter": "python",
   "pygments_lexer": "ipython3",
   "version": "3.11.5"
  }
 },
 "nbformat": 4,
 "nbformat_minor": 2
}
